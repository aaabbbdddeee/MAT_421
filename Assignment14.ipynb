{
  "nbformat": 4,
  "nbformat_minor": 0,
  "metadata": {
    "colab": {
      "provenance": [],
      "authorship_tag": "ABX9TyOQzGF8SZqCD+YKSx/tjZ0N",
      "include_colab_link": true
    },
    "kernelspec": {
      "name": "python3",
      "display_name": "Python 3"
    },
    "language_info": {
      "name": "python"
    }
  },
  "cells": [
    {
      "cell_type": "markdown",
      "metadata": {
        "id": "view-in-github",
        "colab_type": "text"
      },
      "source": [
        "<a href=\"https://colab.research.google.com/github/aaabbbdddeee/MAT_421/blob/main/Assignment14.ipynb\" target=\"_parent\"><img src=\"https://colab.research.google.com/assets/colab-badge.svg\" alt=\"Open In Colab\"/></a>"
      ]
    },
    {
      "cell_type": "markdown",
      "source": [
        "*4.1*"
      ],
      "metadata": {
        "id": "B6w-NYRCPC1W"
      }
    },
    {
      "cell_type": "markdown",
      "source": [
        "Networks can be conveniently modeled by graphs, which are often referred to as social graphs. The individuals within a network are represented as nodes, and an edge connects two nodes if they are related by the relationship that characterizes the network.The explosive growth of social media in recent years has created social graphs with millions of nodes and billions of edges, reflecting the interactions and relationships between these nodes. These networks often exhibit community structure with inherent clusters, and detecting these clusters is one of the critical tasks in network analysis.\n",
        "Communities are essential to gain spatio-temporal insight into big datasets from networks, and good clustering results will enable us to capture key characteristics of datasets in networks."
      ],
      "metadata": {
        "id": "bW1AqGENP0dF"
      }
    },
    {
      "cell_type": "markdown",
      "source": [
        "*4.2*"
      ],
      "metadata": {
        "id": "-ZXHa7XaP3hD"
      }
    },
    {
      "cell_type": "markdown",
      "source": [
        "The aim of graph partitioning is to divide a graph into subsets such that the number of edges between them is minimized. For a weighted graph G = (V, E), given a bipartition of V into disjoint sets V1 and V2 (V1 ∪ V2 = V), the cut between them is defined as the sum of weights of all edges that have one endpoint in V1 and the other in V2. The cut can also be extended to k vertex subsets. The classical graph bipartitioning problem is to find nearly equally-sized vertex subsets V1 and V2 of V such that cut(V1,V2) is minimized.\n",
        "The partition vector p is introduced to capture this division, with pi taking on a value of +1 if i ∈ V1 and -1 if i ∈ V2. The cut can be characterized by the Rayleigh Quotient, which relates the Laplacian matrix L of G and the partition vector p, showing that the minimization of the cut can be represented by the Rayleigh Quotient with some partition vector pi whose values are either -1 or 1.\n",
        "To balance cuts, an objective function is formulated that tries to balance subsets V1 and V2 such that the sum of weights in each subset is approximately equal. The function, Q(V1,V2), is defined such that it is minimized when the subsets are balanced and have a small cut value. The objective function can also be characterized by the Rayleigh Quotient of a generalized partition vector q, which can be solved using the eigenvector corresponding to the second smallest eigenvalue of the generalized eigenvalue problem Lx = λWx."
      ],
      "metadata": {
        "id": "tOi1WnfWQcbq"
      }
    }
  ]
}