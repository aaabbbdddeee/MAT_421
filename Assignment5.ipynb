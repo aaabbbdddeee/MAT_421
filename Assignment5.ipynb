{
  "nbformat": 4,
  "nbformat_minor": 0,
  "metadata": {
    "colab": {
      "provenance": [],
      "authorship_tag": "ABX9TyNgHqUbtYBBVzScxmOm8KVC",
      "include_colab_link": true
    },
    "kernelspec": {
      "name": "python3",
      "display_name": "Python 3"
    },
    "language_info": {
      "name": "python"
    }
  },
  "cells": [
    {
      "cell_type": "markdown",
      "metadata": {
        "id": "view-in-github",
        "colab_type": "text"
      },
      "source": [
        "<a href=\"https://colab.research.google.com/github/aaabbbdddeee/MAT_421/blob/main/Assignment5.ipynb\" target=\"_parent\"><img src=\"https://colab.research.google.com/assets/colab-badge.svg\" alt=\"Open In Colab\"/></a>"
      ]
    },
    {
      "cell_type": "markdown",
      "source": [
        "*Introduction*"
      ],
      "metadata": {
        "id": "kMPeyrNAnMS2"
      }
    },
    {
      "cell_type": "markdown",
      "source": [
        "A solid understanding of linear algebra concepts can enhance the\n",
        "understanding of many data science and machine learning algorithms.\n",
        "Linear algebra is a field of mathematics that is widely used in various disci-\n",
        "plines. Linear algebra plays an important role in data science and machine\n",
        "learning."
      ],
      "metadata": {
        "id": "EQ5vbZFHnOXd"
      }
    },
    {
      "cell_type": "markdown",
      "source": [
        "*Elements of Linear Algebra*"
      ],
      "metadata": {
        "id": "eIkdxmmDnaKw"
      }
    },
    {
      "cell_type": "markdown",
      "source": [
        "We can calculate these scalars with Python. "
      ],
      "metadata": {
        "id": "HwbE9LFLn7eU"
      }
    },
    {
      "cell_type": "code",
      "source": [
        "import numpy as np\n",
        "x = np.array([[5, 7, 9]])\n",
        "z = np.array([[1, 0, 6]])\n",
        "print(np.cross(x, z))"
      ],
      "metadata": {
        "colab": {
          "base_uri": "https://localhost:8080/"
        },
        "id": "n2FeXi44nse9",
        "outputId": "ee0b5f76-514b-4e40-9381-9898f4890df4"
      },
      "execution_count": 1,
      "outputs": [
        {
          "output_type": "stream",
          "name": "stdout",
          "text": [
            "[[ 42 -21  -7]]\n"
          ]
        }
      ]
    },
    {
      "cell_type": "code",
      "source": [
        "import numpy as np\n",
        "import matplotlib.pyplot as plt\n",
        "\n",
        "fig = plt.figure(figsize=(5, 5))\n",
        "ax = fig.add_subplot(111)\n",
        "\n",
        "ax.grid(alpha=0.4)\n",
        "ax.set(xlim=(-6, 6), ylim=(-6, 6))\n",
        "\n",
        "v1 = np.array([3,  4])\n",
        "v2 = np.array([5, -3])\n",
        "\n",
        "ax.annotate('', xy=v1, xytext=(1, 1), arrowprops=dict(facecolor='r'))\n",
        "ax.annotate('', xy=v2, xytext=(1, 1), arrowprops=dict(facecolor='g'))\n",
        "plt.show()"
      ],
      "metadata": {
        "colab": {
          "base_uri": "https://localhost:8080/",
          "height": 338
        },
        "id": "SfjLP3kIo-3_",
        "outputId": "0e8639ee-4430-4a56-b47c-98d98140f224"
      },
      "execution_count": 11,
      "outputs": [
        {
          "output_type": "display_data",
          "data": {
            "text/plain": [
              "<Figure size 360x360 with 1 Axes>"
            ],
            "image/png": "[encoded data removed]"
          },
          "metadata": {
            "needs_background": "light"
          }
        }
      ]
    },
    {
      "cell_type": "code",
      "source": [
        "import numpy as np\n",
        "from numpy.linalg import eig\n",
        "x = np.array([ [6, 9], [8, 6] ])\n",
        "w,v = eig(x)\n",
        "print('E-value:', w)\n",
        "print('E-vector', v)"
      ],
      "metadata": {
        "colab": {
          "base_uri": "https://localhost:8080/"
        },
        "id": "uAPMT9PlpiGm",
        "outputId": "8876d11a-a24d-44f5-b1ea-53be34d35f18"
      },
      "execution_count": 12,
      "outputs": [
        {
          "output_type": "stream",
          "name": "stdout",
          "text": [
            "E-value: [14.49 -2.49]\n",
            "E-vector [[0.73 -0.73]\n",
            " [0.69 0.69]]\n"
          ]
        }
      ]
    },
    {
      "cell_type": "code",
      "source": [
        "import pprint\n",
        "import numpy as np\n",
        "import scipy.linalg  \n",
        "\n",
        "A = np.array([[19, -5, 66], [3, 200, -92], [-6, 173, 50]])  \n",
        "Q, R = scipy.linalg.qr(A)\n",
        "\n",
        "print (\"A:\")\n",
        "pprint.pprint(A)\n",
        "\n",
        "print (\"Q:\")\n",
        "pprint.pprint(Q)\n",
        "\n",
        "print (\"R:\")\n",
        "pprint.pprint(R)"
      ],
      "metadata": {
        "colab": {
          "base_uri": "https://localhost:8080/"
        },
        "id": "qQjOzT9qov7-",
        "outputId": "8fb6ad66-adfd-41ce-d4a4-1da40af2217f"
      },
      "execution_count": 7,
      "outputs": [
        {
          "output_type": "stream",
          "name": "stdout",
          "text": [
            "A:\n",
            "array([[ 19,  -5,  66],\n",
            "       [  3, 200, -92],\n",
            "       [ -6, 173,  50]])\n",
            "Q:\n",
            "array([[-0.94, -0.08, 0.32],\n",
            "       [-0.15, -0.77, -0.61],\n",
            "       [0.30, -0.63, 0.72]])\n",
            "R:\n",
            "array([[-20.15, 26.45, -33.65],\n",
            "       [0.00, -263.16, 34.92],\n",
            "       [0.00, 0.00, 113.88]])\n"
          ]
        }
      ]
    },
    {
      "cell_type": "markdown",
      "source": [
        "*Linear Regression*"
      ],
      "metadata": {
        "id": "zpjqkkHOoKAz"
      }
    },
    {
      "cell_type": "code",
      "source": [
        "import numpy as np\n",
        "from numpy.linalg import qr\n",
        "x = np.array([[1, 4], [3, 6]])\n",
        "\n",
        "Q,R = qr(x)\n",
        "print('Q:', Q)\n",
        "print('R:', R)\n",
        "\n",
        "z = np.dot(Q, R)\n",
        "print('QR:', z)\n",
        "\n",
        "iterations = [1, 20]\n",
        "for i in range(20):\n",
        "    Q,R = qr(x)\n",
        "    x = np.dot(R, Q)\n",
        "    if i+1 in iterations:\n",
        "        print(f'Iteration {i+1}:')\n",
        "        print(x)"
      ],
      "metadata": {
        "colab": {
          "base_uri": "https://localhost:8080/"
        },
        "id": "tEJeUvoHoUDg",
        "outputId": "592a7a44-a02f-4932-d4cc-b8b758bb8869"
      },
      "execution_count": 2,
      "outputs": [
        {
          "output_type": "stream",
          "name": "stdout",
          "text": [
            "Q: [[-0.31622777 -0.9486833 ]\n",
            " [-0.9486833   0.31622777]]\n",
            "R: [[-3.16227766 -6.95701085]\n",
            " [ 0.         -1.8973666 ]]\n",
            "QR: [[1. 4.]\n",
            " [3. 6.]]\n",
            "Iteration 1:\n",
            "[[ 7.6  0.8]\n",
            " [ 1.8 -0.6]]\n",
            "Iteration 20:\n",
            "[[ 7.77200187e+00  1.00000000e+00]\n",
            " [ 1.57737483e-19 -7.72001873e-01]]\n"
          ]
        }
      ]
    },
    {
      "cell_type": "code",
      "source": [
        "import numpy as np\n",
        "from sklearn.datasets import load_digits\n",
        "from matplotlib import pyplot as plt\n",
        "from sklearn.decomposition import TruncatedSVD\n",
        "float_formatter = lambda x: \"%.2f\" % x\n",
        "np.set_printoptions(formatter={'float_kind':float_formatter})\n",
        "from sklearn.ensemble import RandomForestClassifier\n",
        "     \n",
        "\n",
        "X, y = load_digits(return_X_y=True)\n",
        "     \n",
        "X.shape"
      ],
      "metadata": {
        "colab": {
          "base_uri": "https://localhost:8080/"
        },
        "id": "4LJc-UTeoZqm",
        "outputId": "f9b40c4c-065e-47ba-ef59-16f4222e1d06"
      },
      "execution_count": 14,
      "outputs": [
        {
          "output_type": "execute_result",
          "data": {
            "text/plain": [
              "(1797, 64)"
            ]
          },
          "metadata": {},
          "execution_count": 14
        }
      ]
    }
  ]
}