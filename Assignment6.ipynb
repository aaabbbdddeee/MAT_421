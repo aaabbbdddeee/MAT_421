{
  "nbformat": 4,
  "nbformat_minor": 0,
  "metadata": {
    "colab": {
      "provenance": [],
      "authorship_tag": "ABX9TyM76QMqDnja/vTw1iBYHJ85",
      "include_colab_link": true
    },
    "kernelspec": {
      "name": "python3",
      "display_name": "Python 3"
    },
    "language_info": {
      "name": "python"
    }
  },
  "cells": [
    {
      "cell_type": "markdown",
      "metadata": {
        "id": "view-in-github",
        "colab_type": "text"
      },
      "source": [
        "<a href=\"https://colab.research.google.com/github/aaabbbdddeee/MAT_421/blob/main/Assignment6.ipynb\" target=\"_parent\"><img src=\"https://colab.research.google.com/assets/colab-badge.svg\" alt=\"Open In Colab\"/></a>"
      ]
    },
    {
      "cell_type": "markdown",
      "source": [
        "**3.2 Continunity and Differentiation**"
      ],
      "metadata": {
        "id": "dYXYqIwquL4F"
      }
    },
    {
      "cell_type": "code",
      "source": [
        "from pprint import pprint\n",
        "from numpy import array, zeros, diag, diagflat, dot\n",
        "\n",
        "def jacobi(A, b, N=25, x=None):\n",
        "\n",
        "  if x is None:\n",
        "    x=zeros(len(A[0]))\n",
        "  D = diag(A)\n",
        "  R = A-diagflat(D)\n",
        "\n",
        "  for i in range(N):\n",
        "    x = (b-dot(R,x))/ D\n",
        "  return x\n",
        "\n",
        "A = array([[2.0, 1.0], [3.0, 7.0]])\n",
        "b = array([6.0, 30.0])\n",
        "guess = array([5.0, 1.0])\n",
        "\n",
        "sol = jacobi(A, b, N=25, x= guess)\n",
        "  \n",
        "print (\"A:\")\n",
        "pprint(A)\n",
        "print(\"b:\")\n",
        "pprint(b)\n",
        "print(\"x:\")\n",
        "pprint(sol)\n"
      ],
      "metadata": {
        "colab": {
          "base_uri": "https://localhost:8080/"
        },
        "id": "Dkfsdi5quNXS",
        "outputId": "df5428db-4bbe-46d5-ed1e-b61ef0ce5bca"
      },
      "execution_count": 4,
      "outputs": [
        {
          "output_type": "stream",
          "name": "stdout",
          "text": [
            "A:\n",
            "array([[2., 1.],\n",
            "       [3., 7.]])\n",
            "b:\n",
            "array([ 6., 30.])\n",
            "x:\n",
            "array([1.0909091, 3.8181818])\n"
          ]
        }
      ]
    },
    {
      "cell_type": "code",
      "source": [
        "#Importing sympy\n",
        "\n",
        "from sympy import *\n",
        "\n",
        "# create a \"symbol\" called x\n",
        "x = Symbol('x')\n",
        "\n",
        "#Define function\n",
        "f = x**2\n",
        "\n",
        "#Calculating Derivative\n",
        "derivative_f = f.diff(x)\n",
        "\n",
        "derivative_f"
      ],
      "metadata": {
        "colab": {
          "base_uri": "https://localhost:8080/",
          "height": 38
        },
        "id": "PjgBzrgIvR7i",
        "outputId": "fc2bf638-49d1-441d-a826-627d06630784"
      },
      "execution_count": 5,
      "outputs": [
        {
          "output_type": "execute_result",
          "data": {
            "text/plain": [
              "2*x"
            ],
            "text/latex": "$\\displaystyle 2 x$"
          },
          "metadata": {},
          "execution_count": 5
        }
      ]
    },
    {
      "cell_type": "code",
      "source": [
        "import sympy as sym\n",
        " \n",
        "#Power rule\n",
        "x = sym.Symbol('x')\n",
        "f = x**7\n",
        "derivative_f = f.diff(x)\n",
        "derivative_f"
      ],
      "metadata": {
        "colab": {
          "base_uri": "https://localhost:8080/",
          "height": 38
        },
        "id": "To3MAZ-NvVe3",
        "outputId": "d8ef300d-0180-49fa-dc67-6e1f8d4f50d6"
      },
      "execution_count": 6,
      "outputs": [
        {
          "output_type": "execute_result",
          "data": {
            "text/plain": [
              "7*x**6"
            ],
            "text/latex": "$\\displaystyle 7 x^{6}$"
          },
          "metadata": {},
          "execution_count": 6
        }
      ]
    },
    {
      "cell_type": "code",
      "source": [
        "from sympy import symbols, cos, diff\n",
        "a, b, c = symbols('a b c', real=True)\n",
        "f = 5*a*b - a*cos(c) + a**2 + c **8*b\n",
        "print(diff(f, a))"
      ],
      "metadata": {
        "colab": {
          "base_uri": "https://localhost:8080/"
        },
        "id": "7mwD3Dw_vZlJ",
        "outputId": "d797635c-21ab-4ca9-b571-37b2fce71913"
      },
      "execution_count": 7,
      "outputs": [
        {
          "output_type": "stream",
          "name": "stdout",
          "text": [
            "2*a + 5*b - cos(c)\n"
          ]
        }
      ]
    },
    {
      "cell_type": "markdown",
      "source": [
        "**3.3 Unconstrained Optimization**"
      ],
      "metadata": {
        "id": "0Xq_2fCcvhIP"
      }
    },
    {
      "cell_type": "code",
      "source": [
        "import numpy as np\n",
        "import matplotlib.pyplot as plt\n",
        "\n",
        "x=np.linspace(1,7,40)\n",
        "f=np.log(x)\n",
        "plt.plot(x,f,color=(1,0,1))\n",
        "plt.grid()\n",
        "plt.xlabel('x')\n",
        "plt.ylabel('ln(x)')\n",
        "a=3\n",
        "b=6\n",
        "lam = .5\n",
        "c = lam * a + (1-lam)*b\n",
        "fa = np.log(a)\n",
        "fb = np.log(b)\n",
        "fc = np.log(c)\n",
        "fcc = lam *fa+(1-lam)*fb\n",
        "\n",
        "plt.plot([a,a], [0,fa])\n",
        "plt.plot([b,b], [0,fb])\n",
        "plt.plot([c,c], [0,fc])\n",
        "plt.plot([c,c], [0, fcc])\n",
        "plt.plot([a,b], [fa,fb])"
      ],
      "metadata": {
        "colab": {
          "base_uri": "https://localhost:8080/",
          "height": 297
        },
        "id": "o3as05sBviTe",
        "outputId": "912d0a33-3f69-44e9-ebdd-bdba5b2eb82b"
      },
      "execution_count": 12,
      "outputs": [
        {
          "output_type": "execute_result",
          "data": {
            "text/plain": [
              "[<matplotlib.lines.Line2D at 0x7ff52c99e400>]"
            ]
          },
          "metadata": {},
          "execution_count": 12
        },
        {
          "output_type": "display_data",
          "data": {
            "text/plain": [
              "<Figure size 432x288 with 1 Axes>"
            ],
            "image/png": "[encoded data removed]"
          },
          "metadata": {
            "needs_background": "light"
          }
        }
      ]
    },
    {
      "cell_type": "code",
      "source": [
        "import numpy as np\n",
        "import matplotlib.pyplot as plt\n",
        "plt.style.use('seaborn-poster')\n",
        "\n",
        "x = np.linspace(0,8)\n",
        "y = x**2\n",
        "\n",
        "x1 = np.linspace(0,6)\n",
        "y1 = x*4.5\n",
        "\n",
        "plt.plot(x, y,'b',x1,y1,'r')\n",
        "plt.grid()\n",
        "plt.xlabel('x')\n",
        "plt.ylabel('y')\n",
        "plt.legend()\n",
        "plt.show()"
      ],
      "metadata": {
        "colab": {
          "base_uri": "https://localhost:8080/",
          "height": 579
        },
        "id": "aBxiJuyxv2ak",
        "outputId": "4261da94-0ad7-4ff1-a496-d1a1b426e39e"
      },
      "execution_count": 18,
      "outputs": [
        {
          "output_type": "stream",
          "name": "stderr",
          "text": [
            "WARNING:matplotlib.legend:No handles with labels found to put in legend.\n"
          ]
        },
        {
          "output_type": "display_data",
          "data": {
            "text/plain": [
              "<Figure size 921.6x633.6 with 1 Axes>"
            ],
            "image/png": "[encoded data removed]"
          },
          "metadata": {
            "needs_background": "light"
          }
        }
      ]
    }
  ]
}