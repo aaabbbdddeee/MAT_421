{
  "cells": [
    {
      "cell_type": "markdown",
      "metadata": {
        "id": "fuTyRV-v1Ef1"
      },
      "source": [
        "**Base N and Binary**"
      ]
    },
    {
      "cell_type": "code",
      "execution_count": null,
      "metadata": {
        "colab": {
          "base_uri": "https://localhost:8080/",
          "height": 35
        },
        "id": "gfrbtNHP1ibN",
        "outputId": "c2ef45cc-1cf2-4c35-dfbd-d8f196dd217d"
      },
      "outputs": [
        {
          "data": {
            "application/vnd.google.colaboratory.intrinsic+json": {
              "type": "string"
            },
            "text/plain": [
              "'0b1111100111'"
            ]
          },
          "execution_count": 2,
          "metadata": {},
          "output_type": "execute_result"
        }
      ],
      "source": [
        "bin(999)"
      ]
    },
    {
      "cell_type": "code",
      "execution_count": null,
      "metadata": {
        "colab": {
          "base_uri": "https://localhost:8080/",
          "height": 35
        },
        "id": "5YwA_lt24Lib",
        "outputId": "88005a0a-7f98-4024-e16f-a5f4a6a02b9e"
      },
      "outputs": [
        {
          "data": {
            "application/vnd.google.colaboratory.intrinsic+json": {
              "type": "string"
            },
            "text/plain": [
              "'0b10000'"
            ]
          },
          "execution_count": 3,
          "metadata": {},
          "output_type": "execute_result"
        }
      ],
      "source": [
        "bin(16)"
      ]
    },
    {
      "cell_type": "code",
      "execution_count": null,
      "metadata": {
        "colab": {
          "base_uri": "https://localhost:8080/"
        },
        "id": "tep0t80z4hCm",
        "outputId": "826a2ede-7572-40d3-9df2-d02a442a5eb5"
      },
      "outputs": [
        {
          "data": {
            "text/plain": [
              "True"
            ]
          },
          "execution_count": 4,
          "metadata": {},
          "output_type": "execute_result"
        }
      ],
      "source": [
        "# 121(base3) == 16(base10)\n",
        "\n",
        "1*(3**2) + 2*(3**1) + 1*(3**0) == 1*(10**1) + 6*(10**0) "
      ]
    },
    {
      "cell_type": "code",
      "execution_count": null,
      "metadata": {
        "colab": {
          "base_uri": "https://localhost:8080/"
        },
        "id": "FPLheEpp48Iq",
        "outputId": "59587e9b-c7a1-4323-9cd3-f5fbf92aec8d"
      },
      "outputs": [
        {
          "data": {
            "text/plain": [
              "True"
            ]
          },
          "execution_count": 8,
          "metadata": {},
          "output_type": "execute_result"
        }
      ],
      "source": [
        "63 == 1*(2**5) + 1*(2**4) + 1*(2**3) + 1*(2**2) + 1*(2**1) + 1*(2**0)  # 63(base10) == 111111(base2)"
      ]
    },
    {
      "cell_type": "markdown",
      "metadata": {
        "id": "W7nKevSJ5YFt"
      },
      "source": [
        "**Floating Point Numbers**"
      ]
    },
    {
      "cell_type": "code",
      "execution_count": null,
      "metadata": {
        "colab": {
          "base_uri": "https://localhost:8080/"
        },
        "id": "E3xlbu455Z7B",
        "outputId": "9790ec05-a916-48be-83b9-844a37940af8"
      },
      "outputs": [
        {
          "data": {
            "text/plain": [
              "sys.float_info(max=1.7976931348623157e+308, max_exp=1024, max_10_exp=308, min=2.2250738585072014e-308, min_exp=-1021, min_10_exp=-307, dig=15, mant_dig=53, epsilon=2.220446049250313e-16, radix=2, rounds=1)"
            ]
          },
          "execution_count": 9,
          "metadata": {},
          "output_type": "execute_result"
        }
      ],
      "source": [
        "import sys\n",
        "sys.float_info"
      ]
    },
    {
      "cell_type": "code",
      "execution_count": null,
      "metadata": {
        "colab": {
          "base_uri": "https://localhost:8080/"
        },
        "id": "v9fCMI0k6OJg",
        "outputId": "a3d63855-4588-4412-ac6a-6aca0ad81b0a"
      },
      "outputs": [
        {
          "data": {
            "text/plain": [
              "True"
            ]
          },
          "execution_count": 17,
          "metadata": {},
          "output_type": "execute_result"
        }
      ],
      "source": [
        "import numpy as np \n",
        "1e5 == (1e5 + np.spacing(1e5)/3)"
      ]
    },
    {
      "cell_type": "code",
      "execution_count": null,
      "metadata": {
        "colab": {
          "base_uri": "https://localhost:8080/"
        },
        "id": "6DMLlbvu6tPn",
        "outputId": "a015d22c-a8d2-4e52-bcf9-46c8268af930"
      },
      "outputs": [
        {
          "data": {
            "text/plain": [
              "1.4551915228366852e-11"
            ]
          },
          "execution_count": 16,
          "metadata": {},
          "output_type": "execute_result"
        }
      ],
      "source": [
        "import numpy as np \n",
        "np.spacing(1e5)"
      ]
    },
    {
      "cell_type": "code",
      "execution_count": null,
      "metadata": {
        "colab": {
          "base_uri": "https://localhost:8080/"
        },
        "id": "SwUZocqy7BCC",
        "outputId": "f3bd82b4-ce7e-4e41-aba8-7468ffd3e23e"
      },
      "outputs": [
        {
          "data": {
            "text/plain": [
              "True"
            ]
          },
          "execution_count": 18,
          "metadata": {},
          "output_type": "execute_result"
        }
      ],
      "source": [
        "largest = (2**(2046-1023))*((1 + sum(0.5**np.arange(1,53))))\n",
        "\n",
        "sys.float_info.max\n",
        "\n",
        "largest == sys.float_info.max"
      ]
    },
    {
      "cell_type": "markdown",
      "metadata": {
        "id": "1BjB64S77KUu"
      },
      "source": [
        "**Round-off Errors**"
      ]
    },
    {
      "cell_type": "code",
      "execution_count": null,
      "metadata": {
        "colab": {
          "base_uri": "https://localhost:8080/"
        },
        "id": "fBWL65XK7M3t",
        "outputId": "7078ceca-8d04-4f2f-a644-2de834da5cbc"
      },
      "outputs": [
        {
          "data": {
            "text/plain": [
              "False"
            ]
          },
          "execution_count": 19,
          "metadata": {},
          "output_type": "execute_result"
        }
      ],
      "source": [
        "5.7 - 3.662 == 2.038"
      ]
    },
    {
      "cell_type": "code",
      "execution_count": null,
      "metadata": {
        "colab": {
          "base_uri": "https://localhost:8080/"
        },
        "id": "Ecgu-zcdF4ee",
        "outputId": "ab202a76-f697-4a80-d0a9-cf5f8f23f717"
      },
      "outputs": [
        {
          "data": {
            "text/plain": [
              "2.0380000000000003"
            ]
          },
          "execution_count": 20,
          "metadata": {},
          "output_type": "execute_result"
        }
      ],
      "source": [
        "5.7 - 3.662"
      ]
    },
    {
      "cell_type": "code",
      "execution_count": null,
      "metadata": {
        "colab": {
          "base_uri": "https://localhost:8080/"
        },
        "id": "Mn1RjTucF8T-",
        "outputId": "63f0a223-1d43-492f-94ff-f735147519e0"
      },
      "outputs": [
        {
          "data": {
            "text/plain": [
              "True"
            ]
          },
          "execution_count": 21,
          "metadata": {},
          "output_type": "execute_result"
        }
      ],
      "source": [
        "round(5.7-3.662, 7) == round(2.038, 7)"
      ]
    },
    {
      "cell_type": "code",
      "execution_count": null,
      "metadata": {
        "colab": {
          "base_uri": "https://localhost:8080/"
        },
        "id": "2PJjBo3tGR8V",
        "outputId": "bdd5ca07-5ff5-48ee-d388-0097f9a43bdc"
      },
      "outputs": [
        {
          "data": {
            "text/plain": [
              "8.0"
            ]
          },
          "execution_count": 22,
          "metadata": {},
          "output_type": "execute_result"
        }
      ],
      "source": [
        "8 + 5/9 - 5/9"
      ]
    },
    {
      "cell_type": "code",
      "execution_count": 45,
      "metadata": {
        "id": "wKh8LYEwGXV1",
        "colab": {
          "base_uri": "https://localhost:8080/"
        },
        "outputId": "fbffd1dd-754d-40ed-b23f-0ea19f781d97"
      },
      "outputs": [
        {
          "output_type": "stream",
          "name": "stdout",
          "text": [
            "7.999999999999998\n"
          ]
        }
      ],
      "source": [
        "iterations = 100\n",
        "result = 8 \n",
        "\n",
        "for i in range(iterations):\n",
        "    result += 5/9\n",
        "for i in range(iterations):\n",
        "    result -= 5/9\n",
        "\n",
        "print(result)"
      ]
    },
    {
      "cell_type": "code",
      "execution_count": 46,
      "metadata": {
        "colab": {
          "base_uri": "https://localhost:8080/"
        },
        "id": "GXCFJgHAGn1j",
        "outputId": "a5ec6f2c-66c1-4ac4-a2df-38ef80d7a115"
      },
      "outputs": [
        {
          "output_type": "stream",
          "name": "stdout",
          "text": [
            "8.000000000000027\n"
          ]
        }
      ],
      "source": [
        "iterations = 1000\n",
        "result = 8 \n",
        "\n",
        "for i in range(iterations):\n",
        "    result += 5/9\n",
        "for i in range(iterations):\n",
        "    result -= 5/9\n",
        "\n",
        "print(result)"
      ]
    },
    {
      "cell_type": "code",
      "source": [
        "iterations = 10000\n",
        "result = 8 \n",
        "\n",
        "for i in range(iterations):\n",
        "    result += 5/9\n",
        "for i in range(iterations):\n",
        "    result -= 5/9\n",
        "\n",
        "print(result)"
      ],
      "metadata": {
        "colab": {
          "base_uri": "https://localhost:8080/"
        },
        "id": "915DWM91JiNI",
        "outputId": "99e7615a-c432-4aa9-d72e-9c348bff8bfe"
      },
      "execution_count": 47,
      "outputs": [
        {
          "output_type": "stream",
          "name": "stdout",
          "text": [
            "7.99999999999933\n"
          ]
        }
      ]
    }
  ],
  "metadata": {
    "colab": {
      "provenance": []
    },
    "kernelspec": {
      "display_name": "Python 3",
      "name": "python3"
    },
    "language_info": {
      "name": "python"
    }
  },
  "nbformat": 4,
  "nbformat_minor": 0
}