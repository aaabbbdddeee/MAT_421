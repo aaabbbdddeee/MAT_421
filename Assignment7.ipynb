{
  "nbformat": 4,
  "nbformat_minor": 0,
  "metadata": {
    "colab": {
      "provenance": [],
      "authorship_tag": "ABX9TyPoir4L+AZzDK/tIBIst2yq",
      "include_colab_link": true
    },
    "kernelspec": {
      "name": "python3",
      "display_name": "Python 3"
    },
    "language_info": {
      "name": "python"
    }
  },
  "cells": [
    {
      "cell_type": "markdown",
      "metadata": {
        "id": "view-in-github",
        "colab_type": "text"
      },
      "source": [
        "<a href=\"https://colab.research.google.com/github/aaabbbdddeee/MAT_421/blob/main/Assignment7.ipynb\" target=\"_parent\"><img src=\"https://colab.research.google.com/assets/colab-badge.svg\" alt=\"Open In Colab\"/></a>"
      ]
    },
    {
      "cell_type": "markdown",
      "source": [
        "**3.4 Logistic Regression**"
      ],
      "metadata": {
        "id": "guO341BZ39Rd"
      }
    },
    {
      "cell_type": "markdown",
      "source": [
        "Logistic regression is a model used to model binary dependent variables. We use the input data in the form of {(αi,bi): i=1,...,n}, where αi∈ Rd are the features and bi∈ {0,1} is the label. We wish to find a function that approximates the probability of the label being 1, which we model using the logit function of the probability of label 1 as a linear function of the features."
      ],
      "metadata": {
        "id": "gL80Fryp5AOG"
      }
    },
    {
      "cell_type": "code",
      "source": [
        "import matplotlib.pyplot as plt\n",
        "import numpy as np\n",
        "from sklearn.linear_model import LogisticRegression\n",
        "from sklearn.metrics import classification_report, confusion_matrix\n",
        "     \n",
        "\n",
        "x = np.arange(15).reshape(-1, 1)\n",
        "x"
      ],
      "metadata": {
        "colab": {
          "base_uri": "https://localhost:8080/"
        },
        "id": "AinqBkh43-F9",
        "outputId": "30539458-d490-4ee4-9180-6b549e40c6d1"
      },
      "execution_count": null,
      "outputs": [
        {
          "output_type": "execute_result",
          "data": {
            "text/plain": [
              "array([[ 0],\n",
              "       [ 1],\n",
              "       [ 2],\n",
              "       [ 3],\n",
              "       [ 4],\n",
              "       [ 5],\n",
              "       [ 6],\n",
              "       [ 7],\n",
              "       [ 8],\n",
              "       [ 9],\n",
              "       [10],\n",
              "       [11],\n",
              "       [12],\n",
              "       [13],\n",
              "       [14]])"
            ]
          },
          "metadata": {},
          "execution_count": 9
        }
      ]
    },
    {
      "cell_type": "code",
      "source": [
        "import matplotlib.pyplot as plt\n",
        "import numpy as np\n",
        "from sklearn.linear_model import LogisticRegression\n",
        "from sklearn.metrics import classification_report, confusion_matrix\n",
        "     \n",
        "y = np.array([0, 0, 1, 1, 2, 2, 3, 3, 4, 4])\n",
        "y"
      ],
      "metadata": {
        "colab": {
          "base_uri": "https://localhost:8080/"
        },
        "id": "UnGcvd6G4PwO",
        "outputId": "93fee441-3230-4c62-f92f-7b3cbd82252f"
      },
      "execution_count": null,
      "outputs": [
        {
          "output_type": "execute_result",
          "data": {
            "text/plain": [
              "array([0, 0, 1, 1, 2, 2, 3, 3, 4, 4])"
            ]
          },
          "metadata": {},
          "execution_count": 8
        }
      ]
    },
    {
      "cell_type": "markdown",
      "source": [
        "**3.5 K-means**"
      ],
      "metadata": {
        "id": "OfbUMt6n5GNI"
      }
    },
    {
      "cell_type": "markdown",
      "source": [
        "The k-means clustering algorithm is a method of vector quantization that aims to partition n observations into k clusters in which each observation belongs to the cluster with the nearest mean (cluster center). The algorithm minimizes within-cluster variances (squared Euclidean distances) but not regular Euclidean distances. The objective is to find the partition that minimizes the within-cluster sum of squares (WCSS), which is the squared distance of each vector from its centroid summed over all vectors. The k-means algorithm initializes by selecting k points at random as cluster centers and iteratively assigns each observation to its closest cluster center and recalculates the centroid or mean of all objects in each cluster until the same points are assigned to each cluster in consecutive rounds"
      ],
      "metadata": {
        "id": "EoERXYz76PEg"
      }
    },
    {
      "cell_type": "markdown",
      "source": [
        "**3.6 Support Vector Machine**"
      ],
      "metadata": {
        "id": "PzYwUhb56QNb"
      }
    },
    {
      "cell_type": "markdown",
      "source": [
        "SVMs aim to find a hyperplane in a high-dimensional space that can distinctly classify data points into two categories. The SVM algorithm maps training examples to points in space to maximize the width of the gap between the two categories. Predictions of new data are based on which side of the gap they fall."
      ],
      "metadata": {
        "id": "5LPnq4NW6y7t"
      }
    },
    {
      "cell_type": "markdown",
      "source": [
        "**3.7 Neural Network**"
      ],
      "metadata": {
        "id": "rCGYhoHL7H8G"
      }
    },
    {
      "cell_type": "code",
      "source": [
        "input_vector = [1.85, 1.06]\n",
        "weights_1 = [1.34, 0]\n",
        "weights_2 = [3.17, 0.84]\n",
        "\n",
        "# Computing the dot product of input_vector and weights_1\n",
        "first_indexes_mult = input_vector[0] * weights_1[0]\n",
        "second_indexes_mult = input_vector[1] * weights_1[1]\n",
        "dot_product_1 = first_indexes_mult + second_indexes_mult\n",
        "print(f\"The dot product is: {dot_product_1}\")"
      ],
      "metadata": {
        "colab": {
          "base_uri": "https://localhost:8080/"
        },
        "id": "u1PzNELg7I1S",
        "outputId": "a31ebd1f-7044-4f7f-c094-2c43db8d0149"
      },
      "execution_count": 17,
      "outputs": [
        {
          "output_type": "stream",
          "name": "stdout",
          "text": [
            "The dot product is: 2.479\n"
          ]
        }
      ]
    }
  ]
}